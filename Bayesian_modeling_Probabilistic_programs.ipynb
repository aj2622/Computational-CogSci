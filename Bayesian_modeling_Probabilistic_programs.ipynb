{
  "nbformat": 4,
  "nbformat_minor": 0,
  "metadata": {
    "colab": {
      "name": "Bayesian_modeling_Probabilistic_programs.ipynb",
      "provenance": [],
      "authorship_tag": "ABX9TyOFGQYAKA9KDKgkrj9sump9",
      "include_colab_link": true
    },
    "kernelspec": {
      "name": "python3",
      "display_name": "Python 3"
    }
  },
  "cells": [
    {
      "cell_type": "markdown",
      "metadata": {
        "id": "view-in-github",
        "colab_type": "text"
      },
      "source": [
        "<a href=\"https://colab.research.google.com/github/aj2622/Computational-CogSci/blob/master/Bayesian_modeling_Probabilistic_programs.ipynb\" target=\"_parent\"><img src=\"https://colab.research.google.com/assets/colab-badge.svg\" alt=\"Open In Colab\"/></a>"
      ]
    },
    {
      "cell_type": "markdown",
      "metadata": {
        "id": "u6BLLz3_tDXF",
        "colab_type": "text"
      },
      "source": [
        "Probabilistic programs for productive reasoning"
      ]
    },
    {
      "cell_type": "code",
      "metadata": {
        "id": "hrlaIhHAtCh_",
        "colab_type": "code",
        "colab": {}
      },
      "source": [
        "# Import the necessary packages\n",
        "from __future__ import print_function\n",
        "%matplotlib inline\n",
        "import matplotlib\n",
        "import matplotlib.pyplot as plt\n",
        "import random\n",
        "import numpy as np\n",
        "from scipy.stats.mstats import pearsonr"
      ],
      "execution_count": 0,
      "outputs": []
    },
    {
      "cell_type": "code",
      "metadata": {
        "id": "tERN9NL1tVgL",
        "colab_type": "code",
        "colab": {}
      },
      "source": [
        "class world():\n",
        "    def __init__(self):\n",
        "        self.dict_strength = {}\n",
        "    def clear(self): # used when sampling over possible world\n",
        "        self.dict_strength = {}\n",
        "\n",
        "W = world()\n",
        "\n",
        "def strength(name):\n",
        "    if name not in W.dict_strength:\n",
        "        W.dict_strength[name] = abs(random.gauss(10,3))\n",
        "    return W.dict_strength[name]"
      ],
      "execution_count": 0,
      "outputs": []
    },
    {
      "cell_type": "code",
      "metadata": {
        "id": "m7X0glzhtY1t",
        "colab_type": "code",
        "colab": {}
      },
      "source": [
        "def lazy(name):\n",
        "    return random.random() < 0.1"
      ],
      "execution_count": 0,
      "outputs": []
    },
    {
      "cell_type": "code",
      "metadata": {
        "id": "p2YGqPyetc4g",
        "colab_type": "code",
        "colab": {}
      },
      "source": [
        "def team_strength(team):\n",
        "    # team : list of names\n",
        "    mysum = 0.\n",
        "    for name in team:\n",
        "        if lazy(name):\n",
        "            mysum += (strength(name) / 2.)\n",
        "        else:\n",
        "            mysum += strength(name)\n",
        "    return mysum"
      ],
      "execution_count": 0,
      "outputs": []
    },
    {
      "cell_type": "code",
      "metadata": {
        "id": "gVVZpTYEthnI",
        "colab_type": "code",
        "colab": {}
      },
      "source": [
        "def winner(team1,team2):\n",
        "    # team1 : list of names\n",
        "    # team2 : list of names\n",
        "    if team_strength(team1) > team_strength(team2):\n",
        "        return team1\n",
        "    else:\n",
        "        return team2\n",
        "\n",
        "def beat(team1,team2):\n",
        "    return winner(team1,team2) == team1"
      ],
      "execution_count": 0,
      "outputs": []
    },
    {
      "cell_type": "code",
      "metadata": {
        "id": "5r49T4pXtiau",
        "colab_type": "code",
        "colab": {}
      },
      "source": [
        "def rejection_sampler(f_return, list_f_conditions, nsamp=10000):\n",
        "    # Input\n",
        "    #  f_return : function handle that grabs the variable of interest when executed\n",
        "    #  list_f_conditions: list of conditions (function handles) that we are assuming are True\n",
        "    #  nsamp : number of samples (10000)\n",
        "    # Output\n",
        "    #  samples : (as a numpy-array) of length nsamp\n",
        "    samples = []\n",
        "    for i in range(nsamp):        \n",
        "        # TODO : your code goes here (don't forget to call W.clear() before each attempted sample)\n",
        "        W.clear()\n",
        "        b = True\n",
        "        for f in list_f_conditions:\n",
        "            #print(f())\n",
        "            b = b and f()\n",
        "        if b == True:\n",
        "            samples.append(f_return())\n",
        "    #print(samples)\n",
        "    return np.array(samples)"
      ],
      "execution_count": 0,
      "outputs": []
    },
    {
      "cell_type": "code",
      "metadata": {
        "id": "jl4Mer5btlF9",
        "colab_type": "code",
        "colab": {
          "base_uri": "https://localhost:8080/",
          "height": 34
        },
        "outputId": "082fb802-b487-4014-e90f-46c923e82e53"
      },
      "source": [
        "f_return = lambda : strength('bob')\n",
        "list_f_conditions = [lambda : beat( ['bob', 'mary'],['tom', 'sue'] ), lambda : beat( ['bob', 'sue'],  ['tom', 'jim'] )]\n",
        "samples = rejection_sampler(f_return, list_f_conditions, nsamp=50000)\n",
        "mean_strength = np.mean(samples)\n",
        "print(\"Estimate of Bob's strength: mean = \" + str(mean_strength) + \"; effective n = \" + str(len(samples)))"
      ],
      "execution_count": 7,
      "outputs": [
        {
          "output_type": "stream",
          "text": [
            "Estimate of Bob's strength: mean = 11.896479114970838; effective n = 13721\n"
          ],
          "name": "stdout"
        }
      ]
    },
    {
      "cell_type": "code",
      "metadata": {
        "id": "jdGVaWeltwuC",
        "colab_type": "code",
        "colab": {}
      },
      "source": [
        "# TODO : YOUR DATA GOES HERE\n",
        "subject1_pred = np.array([5,6,7,3,6,6])\n",
        "subject2_pred = np.array([4,5,7,2,4,4])"
      ],
      "execution_count": 0,
      "outputs": []
    },
    {
      "cell_type": "code",
      "metadata": {
        "id": "8StT2Nv6tzza",
        "colab_type": "code",
        "colab": {
          "base_uri": "https://localhost:8080/",
          "height": 218
        },
        "outputId": "a8ff26e4-1a86-4e2d-bde2-8abb8a6060b8"
      },
      "source": [
        "model_pred = []\n",
        "\n",
        "f_return = lambda : strength('A')\n",
        "\n",
        "f_conditions = [lambda : beat( ['A', 'B'],['C', 'D'] ), lambda : beat( ['A', 'B'],['E', 'F'] ), lambda : beat( ['A', 'B'],  ['G', 'H'] ) ]\n",
        "samples = rejection_sampler(f_return, f_conditions)\n",
        "print(\"Scenario 1\")\n",
        "print(\"  sample mean : \" + str(np.mean(samples)) + \"; n=\" + str(len(samples)))\n",
        "model_pred.append(np.mean(samples))\n",
        "\n",
        "f_conditions = [lambda : beat( ['A', 'B'],['E', 'F'] ), lambda : beat( ['A', 'C'],['E', 'G'] ), lambda : beat( ['A', 'D'],  ['E', 'H'] ) ]\n",
        "samples = rejection_sampler(f_return, f_conditions)\n",
        "print(\"Scenario 2\")\n",
        "print(\"  sample mean : \" + str(np.mean(samples)) + \"; n=\" + str(len(samples)))\n",
        "model_pred.append(np.mean(samples))\n",
        "\n",
        "f_conditions = [lambda : beat( ['A', 'B'],['E', 'F'] ), lambda : beat(['E', 'F'], ['B', 'C'] ), lambda : beat( ['E', 'F'], ['B', 'D'] ) ]\n",
        "samples = rejection_sampler(f_return, f_conditions)\n",
        "print(\"Scenario 3\")\n",
        "print(\"  sample mean : \" + str(np.mean(samples)) + \"; n=\" + str(len(samples)))\n",
        "model_pred.append(np.mean(samples))\n",
        "\n",
        "f_conditions = [lambda : beat( ['A', 'B'],['E', 'F'] ), lambda : beat( ['B', 'C'],['E', 'F'] ), lambda : beat( ['B', 'D'],  ['E', 'F'] ) ]\n",
        "samples = rejection_sampler(f_return, f_conditions)\n",
        "print(\"Scenario 4\")\n",
        "print(\"  sample mean : \" + str(np.mean(samples)) + \"; n=\" + str(len(samples)))\n",
        "model_pred.append(np.mean(samples))\n",
        "\n",
        "f_conditions = [lambda : beat( ['A', 'B'],['E', 'F'] ), lambda : beat( ['A', 'C'],['G', 'H'] ), lambda : beat( ['A', 'D'],  ['I', 'J'] ) ]\n",
        "samples = rejection_sampler(f_return, f_conditions)\n",
        "print(\"Scenario 5\")\n",
        "print(\"  sample mean : \" + str(np.mean(samples)) + \"; n=\" + str(len(samples)))\n",
        "model_pred.append(np.mean(samples))\n",
        "\n",
        "f_conditions = [lambda : beat( ['A', 'B'],['C', 'D'] ), lambda : beat( ['A', 'C'],['B', 'D'] ), lambda : beat( ['A', 'D'],  ['B', 'C'] ) ]\n",
        "samples = rejection_sampler(f_return, f_conditions)\n",
        "print(\"Scenario 6\")\n",
        "print(\"  sample mean : \" + str(np.mean(samples)) + \"; n=\" + str(len(samples)))\n",
        "model_pred.append(np.mean(samples))"
      ],
      "execution_count": 9,
      "outputs": [
        {
          "output_type": "stream",
          "text": [
            "Scenario 1\n",
            "  sample mean : 12.15555880484714; n=2169\n",
            "Scenario 2\n",
            "  sample mean : 12.012258761762943; n=2183\n",
            "Scenario 3\n",
            "  sample mean : 12.19585889904489; n=724\n",
            "Scenario 4\n",
            "  sample mean : 10.55271012089379; n=2755\n",
            "Scenario 5\n",
            "  sample mean : 12.56470710902732; n=1691\n",
            "Scenario 6\n",
            "  sample mean : 13.19515264939718; n=1239\n"
          ],
          "name": "stdout"
        }
      ]
    },
    {
      "cell_type": "code",
      "metadata": {
        "id": "Hrep6b9Ut3Mb",
        "colab_type": "code",
        "colab": {
          "base_uri": "https://localhost:8080/",
          "height": 282
        },
        "outputId": "9d3698bb-f371-4d37-af4d-737860c0e8ca"
      },
      "source": [
        "def normalize(v):\n",
        "    # scale vector v to have min 0 and max 1\n",
        "    v = v - np.min(v)\n",
        "    v = v / np.max(v)\n",
        "    return v\n",
        "\n",
        "human_pred_norm = normalize((subject1_pred+subject2_pred)/2.)\n",
        "model_pred_norm = normalize(model_pred)\n",
        "\n",
        "# compare predictions from people vs. Bayesian mdoel\n",
        "mybottom = -0.1\n",
        "width = 0.35 \n",
        "plt.figure(1)\n",
        "plt.bar(np.arange(len(human_pred_norm)),human_pred_norm-mybottom, width, bottom=mybottom, color='red')\n",
        "plt.bar(np.arange(len(human_pred_norm))+width, model_pred_norm-mybottom, width, bottom=mybottom, color='blue')\n",
        "plt.ylabel('estimated strength (normalized)')\n",
        "plt.legend(('people','model'))\n",
        "plt.show()\n",
        "\n",
        "r = pearsonr(human_pred_norm,model_pred_norm)[0]\n",
        "print('correlation between human and model predictions; r = ' + str(round(r,3)))"
      ],
      "execution_count": 10,
      "outputs": [
        {
          "output_type": "display_data",
          "data": {
            "image/png": "[encoded data removed]",
            "text/plain": [
              "<Figure size 432x288 with 1 Axes>"
            ]
          },
          "metadata": {
            "tags": []
          }
        },
        {
          "output_type": "stream",
          "text": [
            "correlation between human and model predictions; r = 0.624\n"
          ],
          "name": "stdout"
        }
      ]
    },
    {
      "cell_type": "code",
      "metadata": {
        "id": "Lf1QfnXvt6dE",
        "colab_type": "code",
        "colab": {
          "base_uri": "https://localhost:8080/",
          "height": 84
        },
        "outputId": "898fbc09-3aa3-4257-a128-22bed35fac46"
      },
      "source": [
        "class world_v2():\n",
        "    def __init__(self):\n",
        "        self.dict_strength = {}\n",
        "        self.dict_temper = {}\n",
        "    def clear(self): # used when sampling over possible world\n",
        "        self.dict_strength = {}\n",
        "        self.dict_temper = {}\n",
        "\n",
        "def strength_v2(name):\n",
        "    if name not in W.dict_strength:\n",
        "        W.dict_strength[name] = abs(random.gauss(10,3))\n",
        "    return W.dict_strength[name]\n",
        "\n",
        "def lazy_v2(name):\n",
        "    return random.random() < 0.1\n",
        "        \n",
        "def has_temper(name):\n",
        "    # each player has a 0.2 probability of having a temper\n",
        "    # TODO: YOUR CODE GOES HERE\n",
        "    if name not in W.dict_temper:\n",
        "        if random.random() < 0.2:\n",
        "            W.dict_temper[name] = True\n",
        "        else:\n",
        "            W.dict_temper[name] = False\n",
        "    return W.dict_temper[name]\n",
        "    \n",
        "def team_strength_v2(team):\n",
        "    # team : list of names\n",
        "    mysum = 0.\n",
        "    for name in team:\n",
        "        if lazy_v2(name):\n",
        "            mysum += (strength_v2(name) / 2.)\n",
        "        else:\n",
        "            mysum += strength_v2(name)\n",
        "    # if all of the players have a temper, divide sum strength by 4\n",
        "    ## TODO : YOUR CODE GOES HERE\n",
        "    temper = True\n",
        "    for name in team:\n",
        "        if name not in W.dict_temper:\n",
        "            has_temper(name)\n",
        "        temper = temper and W.dict_temper[name]\n",
        "    if temper == True:\n",
        "        mysum = mysum/4\n",
        "    return mysum\n",
        "\n",
        "def winner_v2(team1,team2):\n",
        "    # team1 : list of names\n",
        "    # team2 : list of names\n",
        "    if team_strength_v2(team1) > team_strength_v2(team2):\n",
        "        return team1\n",
        "    else:\n",
        "        return team2\n",
        "\n",
        "def beat_v2(team1,team2):\n",
        "    return winner_v2(team1,team2) == team1\n",
        "\n",
        "W = world_v2()\n",
        "\n",
        "f_return = lambda : strength_v2('bob')\n",
        "list_f_conditions = [lambda : not has_temper('tom'), lambda : not has_temper('sue'), lambda : beat_v2( ['bob', 'mary'],['tom', 'sue'] ), lambda : beat_v2( ['bob', 'sue'],  ['tom', 'jim'] )]\n",
        "samples = rejection_sampler(f_return, list_f_conditions, nsamp=100000)\n",
        "mean_strength = np.mean(samples)\n",
        "print(\"If Tom and Sue do not have tempers...\")\n",
        "print(\"  Estimate of Bob's strength: mean = \" + str(mean_strength) + \"; effective n = \" + str(len(samples)))\n",
        "\n",
        "list_f_conditions = [lambda : has_temper('tom'), lambda : has_temper('sue'), lambda : beat_v2( ['bob', 'mary'],['tom', 'sue'] ), lambda : beat_v2( ['bob', 'sue'],  ['tom', 'jim'] )]\n",
        "samples = rejection_sampler(f_return, list_f_conditions, nsamp=100000)\n",
        "mean_strength = np.mean(samples)\n",
        "print(\"If Tom and Sue BOTH have tempers...\")\n",
        "print(\"  Estimate of Bob's strength: mean = \" + str(mean_strength) + \"; effective n = \" + str(len(samples)))"
      ],
      "execution_count": 11,
      "outputs": [
        {
          "output_type": "stream",
          "text": [
            "If Tom and Sue do not have tempers...\n",
            "  Estimate of Bob's strength: mean = 11.870218337142315; effective n = 17144\n",
            "If Tom and Sue BOTH have tempers...\n",
            "  Estimate of Bob's strength: mean = 10.769009696472747; effective n = 2049\n"
          ],
          "name": "stdout"
        }
      ]
    },
    {
      "cell_type": "code",
      "metadata": {
        "id": "JJa7VlpVt-a6",
        "colab_type": "code",
        "colab": {}
      },
      "source": [
        ""
      ],
      "execution_count": 0,
      "outputs": []
    }
  ]
}