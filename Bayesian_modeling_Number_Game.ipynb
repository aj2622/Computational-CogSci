{
  "nbformat": 4,
  "nbformat_minor": 0,
  "metadata": {
    "colab": {
      "name": "Bayesian modeling-Number_Game.ipynb",
      "provenance": [],
      "collapsed_sections": [],
      "authorship_tag": "ABX9TyMGdxwjCr2JUaJw7cEpelki",
      "include_colab_link": true
    },
    "kernelspec": {
      "name": "python3",
      "display_name": "Python 3"
    }
  },
  "cells": [
    {
      "cell_type": "markdown",
      "metadata": {
        "id": "view-in-github",
        "colab_type": "text"
      },
      "source": [
        "<a href=\"https://colab.research.google.com/github/aj2622/Computational-CogSci/blob/master/Bayesian_modeling_Number_Game.ipynb\" target=\"_parent\"><img src=\"https://colab.research.google.com/assets/colab-badge.svg\" alt=\"Open In Colab\"/></a>"
      ]
    },
    {
      "cell_type": "markdown",
      "metadata": {
        "id": "iSnZ15u6qoFE",
        "colab_type": "text"
      },
      "source": [
        "Bayesian concept learning with the number game\n"
      ]
    },
    {
      "cell_type": "code",
      "metadata": {
        "id": "YIbv7ylMpDVd",
        "colab_type": "code",
        "colab": {}
      },
      "source": [
        "from __future__ import print_function\n",
        "%matplotlib inline\n",
        "import matplotlib\n",
        "import matplotlib.pyplot as plt\n",
        "import random\n",
        "import numpy as np\n",
        "from scipy.special import logsumexp\n",
        "\n",
        "x_max = 100 # maximum number allowed\n",
        "x_all = np.arange(0,x_max+1)"
      ],
      "execution_count": 0,
      "outputs": []
    },
    {
      "cell_type": "code",
      "metadata": {
        "id": "Hto89Df3pdCk",
        "colab_type": "code",
        "colab": {
          "base_uri": "https://localhost:8080/",
          "height": 222
        },
        "outputId": "93497708-86d2-4ee0-8ef9-9cf88bbeff14"
      },
      "source": [
        "def make_h_odd():\n",
        "    return list(range(1,x_max+1,2))\n",
        "\n",
        "def make_h_even():\n",
        "    return list(range(2,x_max+1,2))\n",
        "\n",
        "def make_h_square():\n",
        "    h = []\n",
        "    for x in range(1,x_max+1):\n",
        "        if x**2 <= x_max:\n",
        "            h.append(x**2)\n",
        "    return h\n",
        "\n",
        "def make_h_cube():\n",
        "    h = []\n",
        "    for x in range(1,x_max+1):\n",
        "        if x**3 <= x_max:\n",
        "            h.append(x**3)\n",
        "    return h\n",
        "\n",
        "def make_h_primes():\n",
        "    return [2, 3, 5, 7, 11, 13, 17, 19, 23, 29, 31, 37, 41, 43, 47, 53, 59, 61, 67, 71, 73, 79, 83, 89, 97]\n",
        "\n",
        "def make_h_mult_of_y(y):\n",
        "    h = []\n",
        "    for x in range(1,x_max+1):\n",
        "        if x*y <= x_max:\n",
        "            h.append(x*y)\n",
        "    return h\n",
        "\n",
        "def make_h_powers_of_y(y):\n",
        "    h = []\n",
        "    for x in range(1,x_max+1):\n",
        "        if y**x <= x_max:\n",
        "            h.append(y**x)\n",
        "    return h\n",
        "\n",
        "def make_h_numbers_ending_in_y(y):\n",
        "    h = []\n",
        "    for x in range(1,x_max+1):\n",
        "        if str(x)[-1] == str(y):\n",
        "            h.append(x)\n",
        "    return h\n",
        "\n",
        "def generate_math_hypotheses(mylambda):\n",
        "    h_set = [make_h_odd(), make_h_even(), make_h_square(), make_h_cube(), make_h_primes()]\n",
        "    h_set += [make_h_mult_of_y(y) for y in range(3,13)]\n",
        "    h_set += [make_h_powers_of_y(y) for y in range(2,11)]\n",
        "    h_set += [make_h_numbers_ending_in_y(y) for y in range(0,10)]\n",
        "    n_hyp = len(h_set)\n",
        "    log_prior = np.log(mylambda * np.ones(n_hyp) / float(n_hyp))\n",
        "    return h_set, log_prior\n",
        "\n",
        "h_set_math, log_prior_math = generate_math_hypotheses(2./3)\n",
        "print(\"Four examples of math hypotheses:\")\n",
        "for i in range(4):\n",
        "    print(h_set_math[i])\n",
        "    print(\"\")\n",
        "print(\"Their prior log-probabilities:\")\n",
        "print(log_prior_math[0:4])"
      ],
      "execution_count": 3,
      "outputs": [
        {
          "output_type": "stream",
          "text": [
            "Four examples of math hypotheses:\n",
            "[1, 3, 5, 7, 9, 11, 13, 15, 17, 19, 21, 23, 25, 27, 29, 31, 33, 35, 37, 39, 41, 43, 45, 47, 49, 51, 53, 55, 57, 59, 61, 63, 65, 67, 69, 71, 73, 75, 77, 79, 81, 83, 85, 87, 89, 91, 93, 95, 97, 99]\n",
            "\n",
            "[2, 4, 6, 8, 10, 12, 14, 16, 18, 20, 22, 24, 26, 28, 30, 32, 34, 36, 38, 40, 42, 44, 46, 48, 50, 52, 54, 56, 58, 60, 62, 64, 66, 68, 70, 72, 74, 76, 78, 80, 82, 84, 86, 88, 90, 92, 94, 96, 98, 100]\n",
            "\n",
            "[1, 4, 9, 16, 25, 36, 49, 64, 81, 100]\n",
            "\n",
            "[1, 8, 27, 64]\n",
            "\n",
            "Their prior log-probabilities:\n",
            "[-3.93182563 -3.93182563 -3.93182563 -3.93182563]\n"
          ],
          "name": "stdout"
        }
      ]
    },
    {
      "cell_type": "code",
      "metadata": {
        "id": "jTjwXf8zpeDO",
        "colab_type": "code",
        "colab": {
          "base_uri": "https://localhost:8080/",
          "height": 202
        },
        "outputId": "88dea9a0-adf1-43f5-c5b5-67adc6c5d417"
      },
      "source": [
        "def make_h_between_y_and_z(y,z):\n",
        "    assert(y >= 1 and z <= x_max)\n",
        "    return list(range(y,z+1))\n",
        "\n",
        "def pdf_erlang(x,sigma=10.):\n",
        "    return (x / sigma**2) * np.exp(-x/sigma)\n",
        "\n",
        "def generate_interval_hypotheses(mylambda):\n",
        "    h_set = []\n",
        "    for y in range(1,x_max+1):\n",
        "        for z in range(y,x_max+1):            \n",
        "            h_set.append(make_h_between_y_and_z(y,z))\n",
        "    nh = len(h_set)\n",
        "    pv = np.ones(nh)\n",
        "    for idx,h in enumerate(h_set): # prior based on length\n",
        "        pv[idx] = pdf_erlang(len(h))\n",
        "    pv = pv / np.sum(pv)\n",
        "    pv = (1-mylambda) * pv\n",
        "    log_prior = np.log(pv)\n",
        "    return h_set, log_prior\n",
        "\n",
        "h_set_int, log_prior_int = generate_interval_hypotheses(2./3)\n",
        "print(\"Four examples of interval hypotheses\")\n",
        "for i in range(4):\n",
        "    print(h_set_int[i])\n",
        "    print(\"\")\n",
        "print(\"Their prior log-probabilities:\")\n",
        "print(log_prior_int[0:4])"
      ],
      "execution_count": 4,
      "outputs": [
        {
          "output_type": "stream",
          "text": [
            "Four examples of interval hypotheses\n",
            "[1]\n",
            "\n",
            "[1, 2]\n",
            "\n",
            "[1, 2, 3]\n",
            "\n",
            "[1, 2, 3, 4]\n",
            "\n",
            "Their prior log-probabilities:\n",
            "[-10.197254    -9.60410682  -9.29864171  -9.11095964]\n"
          ],
          "name": "stdout"
        }
      ]
    },
    {
      "cell_type": "code",
      "metadata": {
        "id": "dZUFfRAPplCH",
        "colab_type": "code",
        "colab": {
          "base_uri": "https://localhost:8080/",
          "height": 101
        },
        "outputId": "a2baf306-f7ee-40ed-8b12-c7a4f8758f74"
      },
      "source": [
        "def convert_h_list_to_numpy(h_list):\n",
        "    h_numpy = np.zeros(x_all.size)\n",
        "    h_numpy[np.array(h_list)] = 1\n",
        "    return h_numpy\n",
        "\n",
        "def generate_hypotheses(mylambda):\n",
        "    h_math,lp_math = generate_math_hypotheses(mylambda)\n",
        "    h_interval,lp_interval = generate_interval_hypotheses(mylambda)\n",
        "    H = h_math + h_interval\n",
        "    H_numpy = [convert_h_list_to_numpy(h) for h in H]\n",
        "    log_prior = np.concatenate((lp_math,lp_interval))\n",
        "    assert(np.isclose(np.sum(np.exp(log_prior)),1.0))\n",
        "    return H_numpy,log_prior\n",
        "\n",
        "print(\"Example of converting list hypothesis to numpy array...\")\n",
        "print(\"original hypothesis:\")\n",
        "h_list = [2,4,6]\n",
        "print(h_list)\n",
        "h_numpy = convert_h_list_to_numpy(h_list)\n",
        "print(\"converted numpy array:\")\n",
        "print(h_numpy[0:10])"
      ],
      "execution_count": 5,
      "outputs": [
        {
          "output_type": "stream",
          "text": [
            "Example of converting list hypothesis to numpy array...\n",
            "original hypothesis:\n",
            "[2, 4, 6]\n",
            "converted numpy array:\n",
            "[0. 0. 1. 0. 1. 0. 1. 0. 0. 0.]\n"
          ],
          "name": "stdout"
        }
      ]
    },
    {
      "cell_type": "code",
      "metadata": {
        "id": "HR5pwbVJpqex",
        "colab_type": "code",
        "colab": {}
      },
      "source": [
        "def log_posterior(data,list_hypothesis,log_prior):\n",
        "    # INPUT\n",
        "    #  data : python list of observed numbers (X) \n",
        "    #  list_hypothesis : [nh length list] each hypothesis is a binary numpy array \n",
        "    #  log_prior : numpy vector [length nh] (log prior value for each hypothesis)\n",
        "    data_numpy = convert_h_list_to_numpy(data) # length nh numpy vector\n",
        "    nh = len(list_hypothesis)\n",
        "    ll = np.zeros(nh)\n",
        "    for idx,h in enumerate(list_hypothesis):\n",
        "        ll[idx] = log_likelihood(data_numpy,h)\n",
        "    lpost = ll + log_prior\n",
        "    lpost = lpost - logsumexp(lpost)\n",
        "    return lpost"
      ],
      "execution_count": 0,
      "outputs": []
    },
    {
      "cell_type": "code",
      "metadata": {
        "id": "yGcKiL10ptKQ",
        "colab_type": "code",
        "colab": {}
      },
      "source": [
        "def log_likelihood(data_numpy, hypothesis):\n",
        "    # INPUT\n",
        "    #  data_numpy : size x_max binary numpy array (observed numbers)\n",
        "    #  hypothesis: size x_max binary numpy array (included numbers in single hypothesis)\n",
        "    # RETURN\n",
        "    #  ll : log-likelihood value (REMEMBER TO CONVERT TO NATURAL LOG (np.log()))\n",
        "    assert(hypothesis.size == data_numpy.size)\n",
        "    n_d = np.sum(data_numpy)\n",
        "    n_h = np.sum(hypothesis)\n",
        "\n",
        "    # TODO: Add your code to check whether or not the hypothesis contains all of the data.\n",
        "    #   If it does not, return -np.inf (log(0))\n",
        "    test_cond = hypothesis - data_numpy\n",
        "    for h in test_cond:\n",
        "        if -1 == h:\n",
        "            return -np.inf\n",
        "    # TODO: Add your code to compute the log-likelihood if the hypothesis contains all of the data.\n",
        "    ll = 1\n",
        "    for h in data_numpy:\n",
        "        if h == 1:\n",
        "            ll = ll * (1/n_h)\n",
        "    ll = np.log(ll)\n",
        "    return ll"
      ],
      "execution_count": 0,
      "outputs": []
    },
    {
      "cell_type": "code",
      "metadata": {
        "id": "43DuYCZ9pwrb",
        "colab_type": "code",
        "colab": {}
      },
      "source": [
        "def bayesian_predictions(data_eval, data, list_hypothesis, log_prior):\n",
        "    # INPUT\n",
        "    #  data_eval : [length ne python list] of new numbers we want to check the probability of membership for\n",
        "    #     each number in data_eval is to be evaluated independently -- it's a separate 'y' in equation above\n",
        "    #  data : [python list] observed numbers (X) \n",
        "    #  list_hypothesis : python list of hypotheses, each is a binary numpy array \n",
        "    #  log_prior : numpy vector [length nh] which is the log prior value for each hypothesis\n",
        "    # \n",
        "    # RETURN\n",
        "    #  pp : numpy vector [size ne] of predicted probabilities of new numbers in data_eval (NOTE: NOT IN LOG SPACE)\n",
        "    lpost = log_posterior(data,list_hypothesis,log_prior)\n",
        "    post = np.exp(lpost) # posterior probabilities\n",
        "    h_mat = np.array(list_hypothesis) # create a [nh by x_max] numpy matrix, showing numbers in each hypothesis\n",
        "    ne = len(data_eval) # how many numbers to evaluate\n",
        "    pp = np.zeros(ne) # predicted probability of each number\n",
        "    for idx,de in enumerate(data_eval):\n",
        "        #TODO : Add your code here to compute predicted probabilities. Can be a single line with form \"pp[idx] = \"..\n",
        "        pp[idx] = np.sum([(h[de]) for h in list_hypothesis] * post)\n",
        "    return pp\n",
        "\n",
        "# TODO : Check your answers for problem 2 using the bayesian_prediction function"
      ],
      "execution_count": 0,
      "outputs": []
    },
    {
      "cell_type": "code",
      "metadata": {
        "id": "mAMRwW_jqNS7",
        "colab_type": "code",
        "colab": {}
      },
      "source": [
        "def plot_predictions(x_eval,mypred):\n",
        "    mybottom = -0.1\n",
        "    plt.figure(figsize=(10, 2))\n",
        "    plt.bar(x_eval,mypred-mybottom,bottom=mybottom)\n",
        "    plt.ylim((mybottom,1.2))\n",
        "    plt.xticks(np.arange(0, x_max+1, step=4))\n",
        "    plt.yticks([0,0.5,1])"
      ],
      "execution_count": 0,
      "outputs": []
    },
    {
      "cell_type": "code",
      "metadata": {
        "id": "M2-qm2dHpzci",
        "colab_type": "code",
        "colab": {
          "base_uri": "https://localhost:8080/",
          "height": 362
        },
        "outputId": "215d2cf5-2fce-4e5c-ce24-c446e6f02b8a"
      },
      "source": [
        "h_test = [make_h_even()]\n",
        "h_test += [make_h_numbers_ending_in_y(0)]\n",
        "\n",
        "log_prior_test = np.array([np.log(0.5), np.log(0.5)])\n",
        "\n",
        "H_numpy_test = [convert_h_list_to_numpy(h) for h in h_test]\n",
        "\n",
        "mypred = bayesian_predictions([4], [10,30], H_numpy_test, log_prior_test)\n",
        "plot_predictions([4],mypred)\n",
        "plt.title('X=[4]')\n",
        "plt.show()\n",
        "print(mypred)\n",
        "\n",
        "mypred = bayesian_predictions([40], [10,30], H_numpy_test, log_prior_test)\n",
        "plot_predictions([40],mypred)\n",
        "plt.title('X=[40]')\n",
        "plt.show()\n",
        "print(mypred)"
      ],
      "execution_count": 11,
      "outputs": [
        {
          "output_type": "display_data",
          "data": {
            "image/png": "[encoded data removed]",
            "text/plain": [
              "<Figure size 720x144 with 1 Axes>"
            ]
          },
          "metadata": {
            "tags": []
          }
        },
        {
          "output_type": "stream",
          "text": [
            "[0.03846154]\n"
          ],
          "name": "stdout"
        },
        {
          "output_type": "display_data",
          "data": {
            "image/png": "[encoded data removed]",
            "text/plain": [
              "<Figure size 720x144 with 1 Axes>"
            ]
          },
          "metadata": {
            "tags": []
          }
        },
        {
          "output_type": "stream",
          "text": [
            "[1.]\n"
          ],
          "name": "stdout"
        }
      ]
    },
    {
      "cell_type": "code",
      "metadata": {
        "id": "6uRWvYZQqT93",
        "colab_type": "code",
        "colab": {
          "base_uri": "https://localhost:8080/",
          "height": 485
        },
        "outputId": "5b989963-4ce4-4c9c-980e-e2396229685a"
      },
      "source": [
        "H_all,log_prior_all = generate_hypotheses(mylambda=0.4)\n",
        "x_eval = [2,4,6,8,9,10]+list(range(12,23))+[24,25,26,28,32,36,41,56,62,64,87,95,96]\n",
        "\n",
        "mypred = bayesian_predictions(x_eval, [16], H_all, log_prior_all)\n",
        "plot_predictions(x_eval,mypred)\n",
        "plt.title('X=[16]')\n",
        "plt.ylabel('prob. of membership')\n",
        "mypred = bayesian_predictions(x_eval, [16, 8, 2, 64], H_all, log_prior_all)\n",
        "plot_predictions(x_eval,mypred)\n",
        "plt.title('X=[16, 8, 2, 64]')\n",
        "plt.ylabel('prob. of membership')\n",
        "mypred = bayesian_predictions(x_eval, [16, 23, 19, 20], H_all, log_prior_all)\n",
        "plot_predictions(x_eval,mypred)\n",
        "plt.title('X=[16, 23, 19, 20]')\n",
        "plt.ylabel('prob. of membership')\n",
        "plt.show()"
      ],
      "execution_count": 12,
      "outputs": [
        {
          "output_type": "display_data",
          "data": {
            "image/png": "[encoded data removed]",
            "text/plain": [
              "<Figure size 720x144 with 1 Axes>"
            ]
          },
          "metadata": {
            "tags": []
          }
        },
        {
          "output_type": "display_data",
          "data": {
            "image/png": "[encoded data removed]",
            "text/plain": [
              "<Figure size 720x144 with 1 Axes>"
            ]
          },
          "metadata": {
            "tags": []
          }
        },
        {
          "output_type": "display_data",
          "data": {
            "image/png": "[encoded data removed]",
            "text/plain": [
              "<Figure size 720x144 with 1 Axes>"
            ]
          },
          "metadata": {
            "tags": []
          }
        }
      ]
    },
    {
      "cell_type": "code",
      "metadata": {
        "id": "agN6nFnoqZtz",
        "colab_type": "code",
        "colab": {
          "base_uri": "https://localhost:8080/",
          "height": 485
        },
        "outputId": "1fa73eda-4708-4a86-92d9-a35f822ad4b0"
      },
      "source": [
        "H_all,log_prior_all = generate_hypotheses(mylambda=0.0000000001)\n",
        "x_eval = list(range(1,100))\n",
        "mypred = bayesian_predictions(x_eval, [16], H_all, log_prior_all)\n",
        "plot_predictions(x_eval,mypred)\n",
        "plt.title('X=[16]')\n",
        "plt.ylabel('prob. of membership')\n",
        "mypred = bayesian_predictions(x_eval, [16, 8, 2, 64], H_all, log_prior_all)\n",
        "plot_predictions(x_eval,mypred)\n",
        "plt.title('X=[16, 8, 2, 64]')\n",
        "plt.ylabel('prob. of membership')\n",
        "mypred = bayesian_predictions(x_eval, [16, 23, 19, 20], H_all, log_prior_all)\n",
        "plot_predictions(x_eval,mypred)\n",
        "plt.title('X=[16, 23, 19, 20]')\n",
        "plt.ylabel('prob. of membership')\n",
        "plt.show()"
      ],
      "execution_count": 13,
      "outputs": [
        {
          "output_type": "display_data",
          "data": {
            "image/png": "[encoded data removed]",
            "text/plain": [
              "<Figure size 720x144 with 1 Axes>"
            ]
          },
          "metadata": {
            "tags": []
          }
        },
        {
          "output_type": "display_data",
          "data": {
            "image/png": "[encoded data removed]",
            "text/plain": [
              "<Figure size 720x144 with 1 Axes>"
            ]
          },
          "metadata": {
            "tags": []
          }
        },
        {
          "output_type": "display_data",
          "data": {
            "image/png": "[encoded data removed]",
            "text/plain": [
              "<Figure size 720x144 with 1 Axes>"
            ]
          },
          "metadata": {
            "tags": []
          }
        }
      ]
    },
    {
      "cell_type": "code",
      "metadata": {
        "id": "6KP8sZ0-qd1w",
        "colab_type": "code",
        "colab": {
          "base_uri": "https://localhost:8080/",
          "height": 485
        },
        "outputId": "7b266f36-3a4e-44c3-8735-769f28466ff0"
      },
      "source": [
        "H_all,log_prior_all = generate_hypotheses(mylambda=0.9999999999999999)\n",
        "x_eval = list(range(1,100))\n",
        "mypred = bayesian_predictions(x_eval, [16], H_all, log_prior_all)\n",
        "plot_predictions(x_eval,mypred)\n",
        "plt.title('X=[16]')\n",
        "plt.ylabel('prob. of membership')\n",
        "mypred = bayesian_predictions(x_eval, [16, 8, 2, 64], H_all, log_prior_all)\n",
        "plot_predictions(x_eval,mypred)\n",
        "plt.title('X=[16, 8, 2, 64]')\n",
        "plt.ylabel('prob. of membership')\n",
        "mypred = bayesian_predictions(x_eval, [16, 23, 19, 20], H_all, log_prior_all)\n",
        "plot_predictions(x_eval,mypred)\n",
        "plt.title('X=[16, 23, 19, 20]')\n",
        "plt.ylabel('prob. of membership')\n",
        "plt.show()"
      ],
      "execution_count": 14,
      "outputs": [
        {
          "output_type": "display_data",
          "data": {
            "image/png": "[encoded data removed]",
            "text/plain": [
              "<Figure size 720x144 with 1 Axes>"
            ]
          },
          "metadata": {
            "tags": []
          }
        },
        {
          "output_type": "display_data",
          "data": {
            "image/png": "[encoded data removed]",
            "text/plain": [
              "<Figure size 720x144 with 1 Axes>"
            ]
          },
          "metadata": {
            "tags": []
          }
        },
        {
          "output_type": "display_data",
          "data": {
            "image/png": "[encoded data removed]",
            "text/plain": [
              "<Figure size 720x144 with 1 Axes>"
            ]
          },
          "metadata": {
            "tags": []
          }
        }
      ]
    }
  ]
}