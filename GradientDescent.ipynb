{
  "nbformat": 4,
  "nbformat_minor": 0,
  "metadata": {
    "colab": {
      "name": "GradientDescent.ipynb",
      "provenance": []
    },
    "kernelspec": {
      "name": "python3",
      "display_name": "Python 3"
    }
  },
  "cells": [
    {
      "cell_type": "markdown",
      "metadata": {
        "id": "klYzQZtoqqpA",
        "colab_type": "text"
      },
      "source": [
        "This notebook implements the gradient descent algorithm for a simple artificial neuron. The neuron will learn to compute logical OR. The neuron model and logical OR, for inputs $x_0$ and $x_1$ and target output $y$."
      ]
    },
    {
      "cell_type": "code",
      "metadata": {
        "id": "JIyjopHaocYi",
        "colab_type": "code",
        "colab": {}
      },
      "source": [
        "# Import libraries\n",
        "from __future__ import print_function\n",
        "%matplotlib inline\n",
        "import matplotlib\n",
        "import matplotlib.pyplot as plt\n",
        "import numpy as np\n",
        "import torch\n",
        "import torch.nn as nn"
      ],
      "execution_count": 0,
      "outputs": []
    },
    {
      "cell_type": "markdown",
      "metadata": {
        "id": "G8ZfieYmrPZT",
        "colab_type": "text"
      },
      "source": [
        "We create `torch.tensor` objects for representing the data matrix `D` with targets `Y`. Each row of `D` is a different data point."
      ]
    },
    {
      "cell_type": "code",
      "metadata": {
        "id": "7Iu7HZU_omt2",
        "colab_type": "code",
        "colab": {}
      },
      "source": [
        "D = np.zeros((4,2),dtype=float)\n",
        "D[0,:] = [0.,0.]\n",
        "D[1,:] = [0.,1.]\n",
        "D[2,:] = [1.,0.]\n",
        "D[3,:] = [1.,1.]\n",
        "D = torch.tensor(D,dtype=torch.float)\n",
        "Y = torch.tensor([0.,1.,1.,1.])\n",
        "N = D.shape[0] # number of input patterns"
      ],
      "execution_count": 0,
      "outputs": []
    },
    {
      "cell_type": "markdown",
      "metadata": {
        "id": "OK5Jm-WBreBf",
        "colab_type": "text"
      },
      "source": [
        "The artificial neuron operates as follows. Given an input vector $x$, the net input ($\\textbf{net}$) to the neuron is computed as follows\n",
        "\n",
        "$$ \\textbf{net} = \\sum_i x_i w_i + b,$$\n",
        "\n",
        "for weights $w_i$ and bias $b$. The activation function $g(\\textbf{net})$ is the logistic function\n",
        "\n",
        "$$ g(\\textbf{net}) = \\frac{1}{1+e^{-\\textbf{net}}},$$\n",
        "\n",
        "which is used to compute the predicted output $\\hat{y} = g(\\textbf{net})$. Finally, the loss (squared error) for a particular pattern $x$ is defined as \n",
        "\n",
        "$$ E(w,b) = (\\hat{y}-y)^2,$$\n",
        "\n",
        "where the target output is $y$. Here we manually compute the gradients of the loss $E$ with respect to the neuron parameters:\n",
        "\n",
        "$$\\frac{\\partial E(w,b)}{\\partial w}, \\frac{\\partial E(w,b)}{\\partial b}.$$\n",
        "\n",
        "By manually, we mean to program the gradient computation directly, using the formulas discussed in class. This is in contrast to using PyTorch's `autograd` (Automatric differentiation) that computes the gradient automatically, as discussed in class, lab, and in the PyTorch tutorial (e.g., `loss.backward()`). First, let's write the activation function and the loss in PyTorch."
      ]
    },
    {
      "cell_type": "code",
      "metadata": {
        "id": "BOuJBUnGqK9g",
        "colab_type": "code",
        "colab": {}
      },
      "source": [
        "def g_logistic(net):\n",
        "    return 1. / (1.+torch.exp(-net))\n",
        "\n",
        "def loss(yhat,y):\n",
        "    return (yhat-y)**2"
      ],
      "execution_count": 0,
      "outputs": []
    },
    {
      "cell_type": "markdown",
      "metadata": {
        "id": "kr74hj89r5mH",
        "colab_type": "text"
      },
      "source": [
        "Next, we'll also write two functions for examining the internal operations of the neuron, and the gradients of its parameters."
      ]
    },
    {
      "cell_type": "code",
      "metadata": {
        "id": "UFN0j0Z-qLro",
        "colab_type": "code",
        "colab": {}
      },
      "source": [
        "def print_forward(x,yhat,y):\n",
        "    # Examine network's prediction for input x\n",
        "    print(' Input: ',end='')\n",
        "    print(x.numpy())\n",
        "    print(' Output: ' + str(round(yhat.item(),3)))\n",
        "    print(' Target: ' + str(y.item()))\n",
        "\n",
        "def print_grad(grad_w,grad_b):\n",
        "    # Examine gradients\n",
        "    print('  d_loss / d_w = ',end='')\n",
        "    print(grad_w)\n",
        "    print('  d_loss / d_b = ',end='')\n",
        "    print(grad_b)"
      ],
      "execution_count": 0,
      "outputs": []
    },
    {
      "cell_type": "markdown",
      "metadata": {
        "id": "rh8bo6fKr9ZM",
        "colab_type": "text"
      },
      "source": [
        "Now let's begin the implementation of stochastic gradient descent. We'll initialize our parameters $w$ and $b$ randomly, and proceed through a series of epochs of training. Each epoch involves visiting the four training patterns in random order, and updating the parameters after each presentation of an input pattern.\n"
      ]
    },
    {
      "cell_type": "code",
      "metadata": {
        "id": "um7pN6eYqPLN",
        "colab_type": "code",
        "outputId": "73155ed8-9e6e-475a-dfe8-2749d8373e01",
        "colab": {
          "base_uri": "https://localhost:8080/",
          "height": 1000
        }
      },
      "source": [
        "# Initialize parameters\n",
        "#     Although you will implement gradient descent manually, let's set requires_grad=True\n",
        "#     anyway so PyTorch will track the gradient too, and we can compare your gradient with PyTorch's.\n",
        "w = torch.rand(2,requires_grad=True) # [size 2] tensor\n",
        "b = torch.rand(1,requires_grad=True) # [size 1] tensor\n",
        "\n",
        "alpha = 0.05 # learning rate\n",
        "nepochs = 2000 # number of epochs\n",
        "\n",
        "track_error = []\n",
        "verbose = True\n",
        "for e in range(nepochs): # for each epoch\n",
        "    error_epoch = 0. # sum loss across the epoch\n",
        "    perm = np.random.permutation(N)\n",
        "    for p in perm: # visit data points in random order\n",
        "        x = D[p,:] # input pattern\n",
        "        \n",
        "        # compute output of neuron\n",
        "        net = torch.dot(x,w)+b\n",
        "        yhat = g_logistic(net)\n",
        "        \n",
        "        # compute loss\n",
        "        y = Y[p]\n",
        "        myloss = loss(yhat,y)\n",
        "        error_epoch += myloss.item()\n",
        "        \n",
        "        # print output if this is the last epoch\n",
        "        if (e == nepochs-1):\n",
        "            print(\"Final result:\")\n",
        "            print_forward(x,yhat,y)\n",
        "            print(\"\")\n",
        "\n",
        "        # Compute the gradient manually\n",
        "        if verbose:\n",
        "            print('Compute the gradient manually')\n",
        "            print_forward(x,yhat,y)\n",
        "        with torch.no_grad():\n",
        "            # TODO : YOUR GRADIENT CODE GOES HERE\n",
        "            #  two lines of the form\n",
        "            #    w_grad = ...    ([size 2] PyTorch tensor)\n",
        "            #    b_grad = ...    ([size 1] PyTorch tensor)\n",
        "            #  make sure to inclose your code in the \"with torch.no_grad()\" wrapper,\n",
        "            #   otherwise PyTorch will try to track the \"gradient\" of the gradient computation, which we don't want.\n",
        "            w_grad = 2*(yhat - y)*yhat*(1 - yhat)*x\n",
        "            b_grad = 2*(yhat - y)*yhat*(1 - yhat)\n",
        "        if verbose: print_grad(w_grad.numpy(),b_grad.numpy())\n",
        "\n",
        "        # Compute the gradient with PyTorch and compre with manual values\n",
        "        if verbose: print('Compute the gradient using PyTorch .backward()')\n",
        "        myloss.backward()\n",
        "        if verbose:\n",
        "            print_grad(w.grad.numpy(),b.grad.numpy())\n",
        "            print(\"\")\n",
        "        w.grad.zero_() # clear PyTorch's gradient\n",
        "        b.grad.zero_()\n",
        "        \n",
        "        # Parameter update with gradient descent\n",
        "        with torch.no_grad():\n",
        "            # TODO : YOUR PARAMETER UPDATE CODE GOES HERE\n",
        "            #  two lines of the form:\n",
        "            #    w -=   ....\n",
        "            #    b -=   ....\n",
        "            w -= w_grad\n",
        "            b -= b_grad \n",
        "            \n",
        "    if verbose==True: verbose=False\n",
        "    track_error.append(error_epoch)\n",
        "    if e % 50 == 0:\n",
        "        print(\"epoch \" + str(e) + \"; error=\" +str(round(error_epoch,3)))\n",
        "    \n",
        "# track output of gradient descent\n",
        "plt.figure()\n",
        "plt.clf()\n",
        "plt.plot(track_error)\n",
        "plt.title('stochastic gradient descent (logistic activation)')\n",
        "plt.ylabel('error for epoch')\n",
        "plt.xlabel('epoch')\n",
        "plt.show()"
      ],
      "execution_count": 0,
      "outputs": [
        {
          "output_type": "stream",
          "text": [
            "Compute the gradient manually\n",
            " Input: [1. 0.]\n",
            " Output: 0.779\n",
            " Target: 1.0\n",
            "  d_loss / d_w = [-0.07623821 -0.        ]\n",
            "  d_loss / d_b = [-0.07623821]\n",
            "Compute the gradient using PyTorch .backward()\n",
            "  d_loss / d_w = [-0.07623821 -0.        ]\n",
            "  d_loss / d_b = [-0.07623821]\n",
            "\n",
            "Compute the gradient manually\n",
            " Input: [1. 1.]\n",
            " Output: 0.835\n",
            " Target: 1.0\n",
            "  d_loss / d_w = [-0.04542459 -0.04542459]\n",
            "  d_loss / d_b = [-0.04542459]\n",
            "Compute the gradient using PyTorch .backward()\n",
            "  d_loss / d_w = [-0.04542459 -0.04542459]\n",
            "  d_loss / d_b = [-0.04542459]\n",
            "\n",
            "Compute the gradient manually\n",
            " Input: [0. 1.]\n",
            " Output: 0.723\n",
            " Target: 1.0\n",
            "  d_loss / d_w = [-0.         -0.11125127]\n",
            "  d_loss / d_b = [-0.11125127]\n",
            "Compute the gradient using PyTorch .backward()\n",
            "  d_loss / d_w = [ 0.         -0.11125129]\n",
            "  d_loss / d_b = [-0.11125129]\n",
            "\n",
            "Compute the gradient manually\n",
            " Input: [0. 0.]\n",
            " Output: 0.692\n",
            " Target: 0.0\n",
            "  d_loss / d_w = [0. 0.]\n",
            "  d_loss / d_b = [0.29492965]\n",
            "Compute the gradient using PyTorch .backward()\n",
            "  d_loss / d_w = [0. 0.]\n",
            "  d_loss / d_b = [0.29492962]\n",
            "\n",
            "epoch 0; error=0.633\n",
            "epoch 50; error=0.07\n",
            "epoch 100; error=0.032\n",
            "epoch 150; error=0.02\n",
            "epoch 200; error=0.015\n",
            "epoch 250; error=0.011\n",
            "epoch 300; error=0.009\n",
            "epoch 350; error=0.008\n",
            "epoch 400; error=0.007\n",
            "epoch 450; error=0.006\n",
            "epoch 500; error=0.005\n",
            "epoch 550; error=0.005\n",
            "epoch 600; error=0.004\n",
            "epoch 650; error=0.004\n",
            "epoch 700; error=0.004\n",
            "epoch 750; error=0.003\n",
            "epoch 800; error=0.003\n",
            "epoch 850; error=0.003\n",
            "epoch 900; error=0.003\n",
            "epoch 950; error=0.003\n",
            "epoch 1000; error=0.003\n",
            "epoch 1050; error=0.002\n",
            "epoch 1100; error=0.002\n",
            "epoch 1150; error=0.002\n",
            "epoch 1200; error=0.002\n",
            "epoch 1250; error=0.002\n",
            "epoch 1300; error=0.002\n",
            "epoch 1350; error=0.002\n",
            "epoch 1400; error=0.002\n",
            "epoch 1450; error=0.002\n",
            "epoch 1500; error=0.002\n",
            "epoch 1550; error=0.002\n",
            "epoch 1600; error=0.002\n",
            "epoch 1650; error=0.001\n",
            "epoch 1700; error=0.001\n",
            "epoch 1750; error=0.001\n",
            "epoch 1800; error=0.001\n",
            "epoch 1850; error=0.001\n",
            "epoch 1900; error=0.001\n",
            "epoch 1950; error=0.001\n",
            "Final result:\n",
            " Input: [0. 0.]\n",
            " Output: 0.026\n",
            " Target: 0.0\n",
            "\n",
            "Final result:\n",
            " Input: [1. 1.]\n",
            " Output: 1.0\n",
            " Target: 1.0\n",
            "\n",
            "Final result:\n",
            " Input: [1. 0.]\n",
            " Output: 0.984\n",
            " Target: 1.0\n",
            "\n",
            "Final result:\n",
            " Input: [0. 1.]\n",
            " Output: 0.984\n",
            " Target: 1.0\n",
            "\n"
          ],
          "name": "stdout"
        },
        {
          "output_type": "display_data",
          "data": {
            "image/png": "[encoded data removed]",
            "text/plain": [
              "<Figure size 432x288 with 1 Axes>"
            ]
          },
          "metadata": {
            "tags": []
          }
        }
      ]
    },
    {
      "cell_type": "markdown",
      "metadata": {
        "id": "kM96SSQlsJFD",
        "colab_type": "text"
      },
      "source": [
        "Now let's change the activation function to \"tanh\" from the \"logistic\" function, such that $g(\\textbf{net}) = \\tanh(\\textbf{net})$."
      ]
    },
    {
      "cell_type": "code",
      "metadata": {
        "id": "NgrVSQgkqTMx",
        "colab_type": "code",
        "colab": {}
      },
      "source": [
        "def g_tanh(x):\n",
        "    return (torch.exp(x) - torch.exp(-x))/(torch.exp(x) + torch.exp(-x))"
      ],
      "execution_count": 0,
      "outputs": []
    },
    {
      "cell_type": "markdown",
      "metadata": {
        "id": "Ku7bguwwsa2d",
        "colab_type": "text"
      },
      "source": [
        "The derivative of the tanh function is as follows:\n",
        "\n",
        "$$\\frac{\\partial g(\\textbf{net})}{\\partial \\textbf{net}}= \\frac{\\partial \\tanh(\\textbf{net})}{\\partial \\textbf{net}} = 1.0 - (\\tanh(\\textbf{net}))^2$$"
      ]
    },
    {
      "cell_type": "code",
      "metadata": {
        "id": "0-XUPSLVqYeM",
        "colab_type": "code",
        "outputId": "c74cf0ea-aa2d-46da-e125-92d2741f8a68",
        "colab": {
          "base_uri": "https://localhost:8080/",
          "height": 1000
        }
      },
      "source": [
        "# Initialize parameters\n",
        "#     Although you will implement gradient descent manually, let's set requires_grad=True\n",
        "#     anyway so PyTorch will track the gradient too, and we can compare your gradient with PyTorch's.\n",
        "w = torch.rand(2,requires_grad=True) # [size 2] tensor\n",
        "b = torch.rand(1,requires_grad=True) # [size 1] tensor\n",
        "\n",
        "alpha = 0.05 # learning rate\n",
        "nepochs = 2000 # number of epochs\n",
        "\n",
        "track_error = []\n",
        "verbose = True\n",
        "for e in range(nepochs): # for each epoch\n",
        "    error_epoch = 0. # sum loss across the epoch\n",
        "    perm = np.random.permutation(N)\n",
        "    for p in perm: # visit data points in random order\n",
        "        x = D[p,:] # input pattern\n",
        "        \n",
        "        # compute output of neuron\n",
        "        net = torch.dot(x,w)+b\n",
        "        yhat = g_tanh(net)\n",
        "        \n",
        "        # compute loss\n",
        "        y = Y[p]\n",
        "        myloss = loss(yhat,y)\n",
        "        error_epoch += myloss.item()\n",
        "        \n",
        "        # print output if this is the last epoch\n",
        "        if (e == nepochs-1):\n",
        "            print(\"Final result:\")\n",
        "            print_forward(x,yhat,y)\n",
        "            print(\"\")\n",
        "\n",
        "        # Compute the gradient manually\n",
        "        if verbose:\n",
        "            print('Compute the gradient manually')\n",
        "            print_forward(x,yhat,y)\n",
        "        with torch.no_grad():\n",
        "            # TODO : YOUR GRADIENT CODE GOES HERE\n",
        "            #  two lines of the form\n",
        "            #    w_grad = ...    ([size 2] PyTorch tensor)\n",
        "            #    b_grad = ...    ([size 1] PyTorch tensor)\n",
        "            #  make sure to inclose your code in the \"with torch.no_grad()\" wrapper,\n",
        "            #   otherwise PyTorch will try to track the \"gradient\" of the graident computation, which we don't want.\n",
        "            w_grad = 2*(yhat-y)*(1-yhat**2)*x\n",
        "            b_grad = 2*(yhat-y)*(1-yhat**2)\n",
        "                                   \n",
        "        if verbose: print_grad(w_grad.numpy(),b_grad.numpy())\n",
        "\n",
        "        # Compute the gradient with PyTorch and compre with manual values\n",
        "        if verbose: print('Compute the gradient using PyTorch .backward()')\n",
        "        myloss.backward()\n",
        "        if verbose:\n",
        "            print_grad(w.grad.numpy(),b.grad.numpy())\n",
        "            print(\"\")\n",
        "        w.grad.zero_() # clear PyTorch's gradient\n",
        "        b.grad.zero_()\n",
        "        \n",
        "        # Parameter update with gradient descent\n",
        "        with torch.no_grad():\n",
        "            # TODO : YOUR PARAMETER UPDATE CODE GOES HERE\n",
        "            #  two lines of the form:\n",
        "            #    w -=   ....\n",
        "            #    b -=   ....\n",
        "            w -= w_grad\n",
        "            b -= b_grad\n",
        "            \n",
        "            \n",
        "    if verbose==True: verbose=False\n",
        "    track_error.append(error_epoch)\n",
        "    if e % 50 == 0:\n",
        "        print(\"epoch \" + str(e) + \"; error=\" +str(round(error_epoch,3)))\n",
        "    \n",
        "# track output of gradient descent\n",
        "plt.figure()\n",
        "plt.clf()\n",
        "plt.plot(track_error)\n",
        "plt.title('stochastic gradient descent (tanh activation)')\n",
        "plt.ylabel('error for epoch')\n",
        "plt.xlabel('epoch')\n",
        "plt.show()"
      ],
      "execution_count": 0,
      "outputs": [
        {
          "output_type": "stream",
          "text": [
            "Compute the gradient manually\n",
            " Input: [0. 0.]\n",
            " Output: 0.628\n",
            " Target: 0.0\n",
            "  d_loss / d_w = [0. 0.]\n",
            "  d_loss / d_b = [0.7605431]\n",
            "Compute the gradient using PyTorch .backward()\n",
            "  d_loss / d_w = [0. 0.]\n",
            "  d_loss / d_b = [0.7605431]\n",
            "\n",
            "Compute the gradient manually\n",
            " Input: [1. 0.]\n",
            " Output: 0.092\n",
            " Target: 1.0\n",
            "  d_loss / d_w = [-1.800984 -0.      ]\n",
            "  d_loss / d_b = [-1.800984]\n",
            "Compute the gradient using PyTorch .backward()\n",
            "  d_loss / d_w = [-1.8009839  0.       ]\n",
            "  d_loss / d_b = [-1.8009839]\n",
            "\n",
            "Compute the gradient manually\n",
            " Input: [1. 1.]\n",
            " Output: 0.999\n",
            " Target: 1.0\n",
            "  d_loss / d_w = [-1.0849742e-06 -1.0849742e-06]\n",
            "  d_loss / d_b = [-1.0849742e-06]\n",
            "Compute the gradient using PyTorch .backward()\n",
            "  d_loss / d_w = [-1.0848744e-06 -1.0848744e-06]\n",
            "  d_loss / d_b = [-1.0848744e-06]\n",
            "\n",
            "Compute the gradient manually\n",
            " Input: [0. 1.]\n",
            " Output: 0.976\n",
            " Target: 1.0\n",
            "  d_loss / d_w = [-0.         -0.00222303]\n",
            "  d_loss / d_b = [-0.00222303]\n",
            "Compute the gradient using PyTorch .backward()\n",
            "  d_loss / d_w = [ 0.         -0.00222304]\n",
            "  d_loss / d_b = [-0.00222304]\n",
            "\n",
            "epoch 0; error=1.22\n",
            "epoch 50; error=0.003\n",
            "epoch 100; error=0.002\n",
            "epoch 150; error=0.001\n",
            "epoch 200; error=0.001\n",
            "epoch 250; error=0.001\n",
            "epoch 300; error=0.001\n",
            "epoch 350; error=0.001\n",
            "epoch 400; error=0.001\n",
            "epoch 450; error=0.0\n",
            "epoch 500; error=0.0\n",
            "epoch 550; error=0.0\n",
            "epoch 600; error=0.0\n",
            "epoch 650; error=0.0\n",
            "epoch 700; error=0.0\n",
            "epoch 750; error=0.0\n",
            "epoch 800; error=0.0\n",
            "epoch 850; error=0.0\n",
            "epoch 900; error=0.0\n",
            "epoch 950; error=0.0\n",
            "epoch 1000; error=0.0\n",
            "epoch 1050; error=0.0\n",
            "epoch 1100; error=0.0\n",
            "epoch 1150; error=0.0\n",
            "epoch 1200; error=0.0\n",
            "epoch 1250; error=0.0\n",
            "epoch 1300; error=0.0\n",
            "epoch 1350; error=0.0\n",
            "epoch 1400; error=0.0\n",
            "epoch 1450; error=0.0\n",
            "epoch 1500; error=0.0\n",
            "epoch 1550; error=0.0\n",
            "epoch 1600; error=0.0\n",
            "epoch 1650; error=0.0\n",
            "epoch 1700; error=0.0\n",
            "epoch 1750; error=0.0\n",
            "epoch 1800; error=0.0\n",
            "epoch 1850; error=0.0\n",
            "epoch 1900; error=0.0\n",
            "epoch 1950; error=0.0\n",
            "Final result:\n",
            " Input: [1. 1.]\n",
            " Output: 1.0\n",
            " Target: 1.0\n",
            "\n",
            "Final result:\n",
            " Input: [0. 0.]\n",
            " Output: -0.002\n",
            " Target: 0.0\n",
            "\n",
            "Final result:\n",
            " Input: [0. 1.]\n",
            " Output: 0.994\n",
            " Target: 1.0\n",
            "\n",
            "Final result:\n",
            " Input: [1. 0.]\n",
            " Output: 0.994\n",
            " Target: 1.0\n",
            "\n"
          ],
          "name": "stdout"
        },
        {
          "output_type": "display_data",
          "data": {
            "image/png": "[encoded data removed]",
            "text/plain": [
              "<Figure size 432x288 with 1 Axes>"
            ]
          },
          "metadata": {
            "tags": []
          }
        }
      ]
    }
  ]
}